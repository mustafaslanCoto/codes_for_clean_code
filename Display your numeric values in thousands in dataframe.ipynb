{
 "cells": [
  {
   "cell_type": "code",
   "execution_count": 3,
   "id": "16d21e48",
   "metadata": {},
   "outputs": [],
   "source": [
    "import pandas as pd\n",
    "def make_in_thousands(df):\n",
    "    \n",
    "    for i in df.columns:\n",
    "        try:\n",
    "            df[i] = df.apply(lambda x: \"{:,}\".format(x[i]), axis=1)\n",
    "        except:\n",
    "            print(\"Your dataframe is already formatted\")\n",
    "    "
   ]
  }
 ],
 "metadata": {
  "kernelspec": {
   "display_name": "Python 3 (ipykernel)",
   "language": "python",
   "name": "python3"
  },
  "language_info": {
   "codemirror_mode": {
    "name": "ipython",
    "version": 3
   },
   "file_extension": ".py",
   "mimetype": "text/x-python",
   "name": "python",
   "nbconvert_exporter": "python",
   "pygments_lexer": "ipython3",
   "version": "3.9.12"
  }
 },
 "nbformat": 4,
 "nbformat_minor": 5
}
