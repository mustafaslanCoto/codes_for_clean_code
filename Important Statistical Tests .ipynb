{
 "cells": [
  {
   "cell_type": "code",
   "execution_count": 3,
   "id": "4676be7a",
   "metadata": {},
   "outputs": [],
   "source": [
    "from scipy.stats import ttest_ind, f_oneway\n",
    "from statsmodels.stats.proportion import proportions_ztest\n",
    "import numpy as np"
   ]
  },
  {
   "cell_type": "code",
   "execution_count": null,
   "id": "1b239a72",
   "metadata": {},
   "outputs": [],
   "source": [
    "## t-test to test two sample\n",
    "ttest_ind(series_1, series_2, equal_var=False, alternative=\"less\") #to check if the mean of series_1 is less than that of series_2\n",
    "\n",
    "##Anova test to test differences in more than two samples\n",
    "f_oneway(series_1, series_2, series_3)\n",
    "\n",
    "## Proportion Z-test to test difference in percentages of two sample\n",
    "\n",
    "NS = np.array([400, 600]) # number of successes\n",
    "NO = np.array([1000, 2000]) #number of observations\n",
    "proportions_ztest(NS, NO, alternative=\"smaller\")"
   ]
  }
 ],
 "metadata": {
  "kernelspec": {
   "display_name": "Python 3 (ipykernel)",
   "language": "python",
   "name": "python3"
  },
  "language_info": {
   "codemirror_mode": {
    "name": "ipython",
    "version": 3
   },
   "file_extension": ".py",
   "mimetype": "text/x-python",
   "name": "python",
   "nbconvert_exporter": "python",
   "pygments_lexer": "ipython3",
   "version": "3.9.12"
  }
 },
 "nbformat": 4,
 "nbformat_minor": 5
}
