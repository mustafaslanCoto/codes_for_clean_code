{
 "cells": [
  {
   "cell_type": "code",
   "execution_count": 1,
   "id": "ad903ea9",
   "metadata": {},
   "outputs": [],
   "source": [
    "import pandas as pd"
   ]
  },
  {
   "cell_type": "code",
   "execution_count": null,
   "id": "1aeac05d",
   "metadata": {},
   "outputs": [],
   "source": [
    "#Showing 2 numbers after decimal points \n",
    "df.loc[\"row_name\"] = df.loc[\"row_name\"].round(2).apply(lambda x: \"{:.2f}\".format(x))"
   ]
  }
 ],
 "metadata": {
  "kernelspec": {
   "display_name": "Python 3 (ipykernel)",
   "language": "python",
   "name": "python3"
  },
  "language_info": {
   "codemirror_mode": {
    "name": "ipython",
    "version": 3
   },
   "file_extension": ".py",
   "mimetype": "text/x-python",
   "name": "python",
   "nbconvert_exporter": "python",
   "pygments_lexer": "ipython3",
   "version": "3.9.12"
  }
 },
 "nbformat": 4,
 "nbformat_minor": 5
}
